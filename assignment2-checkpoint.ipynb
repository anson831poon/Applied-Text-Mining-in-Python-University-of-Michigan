{
 "cells": [
  {
   "cell_type": "markdown",
   "metadata": {
    "deletable": false,
    "editable": false,
    "nbgrader": {
     "cell_type": "markdown",
     "checksum": "042ddd35e206e7e1391c875e9a6ed367",
     "grade": false,
     "grade_id": "cell-c1591794d1fd86d3",
     "locked": true,
     "schema_version": 3,
     "solution": false,
     "task": false
    }
   },
   "source": [
    "# Assignment 2 - Introduction to NLTK\n",
    "\n",
    "In part 1 of this assignment you will use nltk to explore the <a href='http://www.cs.cmu.edu/~ark/personas/'>CMU Movie Summary Corpus</a>. All data is released under a <a href='https://creativecommons.org/licenses/by-sa/3.0/us/legalcode'>Creative Commons Attribution-ShareAlike License</a>. Then in part 2 you will create a spelling recommender function that uses nltk to find words similar to the misspelling. "
   ]
  },
  {
   "cell_type": "markdown",
   "metadata": {
    "deletable": false,
    "editable": false,
    "nbgrader": {
     "cell_type": "markdown",
     "checksum": "3aaa75831c5da066cadbe61915e4ac73",
     "grade": false,
     "grade_id": "cell-3d80a2d0f0db2240",
     "locked": true,
     "schema_version": 3,
     "solution": false,
     "task": false
    }
   },
   "source": [
    "## Part 1 - Analyzing Plots Summary Text"
   ]
  },
  {
   "cell_type": "code",
   "execution_count": 42,
   "metadata": {
    "deletable": false,
    "editable": false,
    "nbgrader": {
     "cell_type": "code",
     "checksum": "ba66628bfe1eeef83f2c719a13c75a0e",
     "grade": false,
     "grade_id": "cell-e90899706f77f111",
     "locked": true,
     "schema_version": 3,
     "solution": false,
     "task": false
    }
   },
   "outputs": [],
   "source": [
    "import nltk\n",
    "import pandas as pd\n",
    "import numpy as np\n",
    "\n",
    "nltk.data.path.append(\"assets/\")\n",
    "\n",
    "# If you would like to work with the raw text you can use 'plots_raw'\n",
    "with open('plots.txt', 'rt', encoding=\"utf8\") as f:\n",
    "    plots_raw = f.read()\n",
    "\n",
    "# If you would like to work with the plot summaries in nltk.Text format you can use 'text1'.\n",
    "plots_tokens = nltk.word_tokenize(plots_raw)\n",
    "text1 = nltk.Text(plots_tokens)"
   ]
  },
  {
   "cell_type": "markdown",
   "metadata": {
    "deletable": false,
    "editable": false,
    "nbgrader": {
     "cell_type": "markdown",
     "checksum": "79da98b604c58196f7ab060d37b80738",
     "grade": false,
     "grade_id": "cell-1b05eeb0d5ba2354",
     "locked": true,
     "schema_version": 3,
     "solution": false,
     "task": false
    },
    "tags": []
   },
   "source": [
    "### Example 1\n",
    "\n",
    "How many tokens (words and punctuation symbols) are in text1?\n",
    "\n",
    "*This function should return an integer.*"
   ]
  },
  {
   "cell_type": "code",
   "execution_count": 16,
   "metadata": {
    "deletable": false,
    "editable": false,
    "nbgrader": {
     "cell_type": "code",
     "checksum": "69df2d758fcc798f64ce17b1fdd977e3",
     "grade": false,
     "grade_id": "cell-1ba7b4619cb7493e",
     "locked": true,
     "schema_version": 3,
     "solution": false,
     "task": false
    }
   },
   "outputs": [
    {
     "data": {
      "text/plain": [
       "374441"
      ]
     },
     "execution_count": 16,
     "metadata": {},
     "output_type": "execute_result"
    }
   ],
   "source": [
    "def example_one():\n",
    "    \n",
    "    return len(nltk.word_tokenize(plots_raw)) # or alternatively len(text1)\n",
    "\n",
    "example_one()"
   ]
  },
  {
   "cell_type": "markdown",
   "metadata": {
    "deletable": false,
    "editable": false,
    "nbgrader": {
     "cell_type": "markdown",
     "checksum": "bb0e377d6239813d9388dbfeacae633e",
     "grade": false,
     "grade_id": "cell-a98e3f30e25ba849",
     "locked": true,
     "schema_version": 3,
     "solution": false,
     "task": false
    }
   },
   "source": [
    "### Example 2\n",
    "\n",
    "How many unique tokens (unique words and punctuation) does text1 have?\n",
    "\n",
    "*This function should return an integer.*"
   ]
  },
  {
   "cell_type": "code",
   "execution_count": 17,
   "metadata": {
    "deletable": false,
    "editable": false,
    "nbgrader": {
     "cell_type": "code",
     "checksum": "bc467f7cae3620b83a6ba7dfb0cf821e",
     "grade": false,
     "grade_id": "cell-7d9049c605f475c0",
     "locked": true,
     "schema_version": 3,
     "solution": false,
     "task": false
    }
   },
   "outputs": [
    {
     "data": {
      "text/plain": [
       "25933"
      ]
     },
     "execution_count": 17,
     "metadata": {},
     "output_type": "execute_result"
    }
   ],
   "source": [
    "def example_two():\n",
    "    \n",
    "    return len(set(nltk.word_tokenize(plots_raw))) # or alternatively len(set(text1))\n",
    "\n",
    "example_two()"
   ]
  },
  {
   "cell_type": "markdown",
   "metadata": {
    "deletable": false,
    "editable": false,
    "nbgrader": {
     "cell_type": "markdown",
     "checksum": "4b42347544bd4ad5a4351f8664477944",
     "grade": false,
     "grade_id": "cell-e718058d7a91011b",
     "locked": true,
     "schema_version": 3,
     "solution": false,
     "task": false
    }
   },
   "source": [
    "### Example 3\n",
    "\n",
    "After lemmatizing the verbs, how many unique tokens does text1 have?\n",
    "\n",
    "*This function should return an integer.*"
   ]
  },
  {
   "cell_type": "code",
   "execution_count": 18,
   "metadata": {
    "deletable": false,
    "editable": false,
    "nbgrader": {
     "cell_type": "code",
     "checksum": "803b60144a4be3736540c0d8d36ad560",
     "grade": false,
     "grade_id": "cell-2f40f5a1c59b5994",
     "locked": true,
     "schema_version": 3,
     "solution": false,
     "task": false
    }
   },
   "outputs": [
    {
     "data": {
      "text/plain": [
       "21760"
      ]
     },
     "execution_count": 18,
     "metadata": {},
     "output_type": "execute_result"
    }
   ],
   "source": [
    "from nltk.stem import WordNetLemmatizer\n",
    "\n",
    "def example_three():\n",
    "\n",
    "    lemmatizer = WordNetLemmatizer()\n",
    "    lemmatized = [lemmatizer.lemmatize(w,'v') for w in text1]\n",
    "\n",
    "    return len(set(lemmatized))\n",
    "\n",
    "example_three()"
   ]
  },
  {
   "cell_type": "markdown",
   "metadata": {
    "deletable": false,
    "editable": false,
    "nbgrader": {
     "cell_type": "markdown",
     "checksum": "c35433373631a4b873cbc1b9be20dbb0",
     "grade": false,
     "grade_id": "cell-17b1215308416fc7",
     "locked": true,
     "schema_version": 3,
     "solution": false,
     "task": false
    }
   },
   "source": [
    "### Question 1\n",
    "\n",
    "What is the lexical diversity of the given text input? (i.e. ratio of unique tokens to the total number of tokens)\n",
    "\n",
    "*This function should return a float.*"
   ]
  },
  {
   "cell_type": "code",
   "execution_count": 19,
   "metadata": {
    "deletable": false,
    "nbgrader": {
     "cell_type": "code",
     "checksum": "a8d36786c19fc59c793052acd5399b32",
     "grade": false,
     "grade_id": "cell-1ffaa79138a71fb9",
     "locked": false,
     "schema_version": 3,
     "solution": true,
     "task": false
    }
   },
   "outputs": [
    {
     "data": {
      "text/plain": [
       "0.06925790712021386"
      ]
     },
     "execution_count": 19,
     "metadata": {},
     "output_type": "execute_result"
    }
   ],
   "source": [
    "def answer_one():\n",
    "\n",
    "    # YOUR CODE HERE\n",
    "    #raise NotImplementedError()\n",
    "    return len(set(nltk.word_tokenize(plots_raw)))/len(nltk.word_tokenize(plots_raw))\n",
    "\n",
    "answer_one()"
   ]
  },
  {
   "cell_type": "code",
   "execution_count": null,
   "metadata": {
    "deletable": false,
    "editable": false,
    "nbgrader": {
     "cell_type": "code",
     "checksum": "4bdca0afdbe07ebe551cdab9a36a5453",
     "grade": true,
     "grade_id": "cell-f652837013625f3e",
     "locked": true,
     "points": 1,
     "schema_version": 3,
     "solution": false,
     "task": false
    }
   },
   "outputs": [],
   "source": []
  },
  {
   "cell_type": "markdown",
   "metadata": {
    "deletable": false,
    "editable": false,
    "nbgrader": {
     "cell_type": "markdown",
     "checksum": "40f67e855292d55876456d71e04ac9ad",
     "grade": false,
     "grade_id": "cell-58eedbdc1473445b",
     "locked": true,
     "schema_version": 3,
     "solution": false,
     "task": false
    }
   },
   "source": [
    "### Question 2\n",
    "\n",
    "What percentage of tokens is 'love'or 'Love'?\n",
    "\n",
    "*This function should return a float.*"
   ]
  },
  {
   "cell_type": "code",
   "execution_count": 25,
   "metadata": {},
   "outputs": [
    {
     "data": {
      "text/plain": [
       "668"
      ]
     },
     "execution_count": 25,
     "metadata": {},
     "output_type": "execute_result"
    }
   ],
   "source": [
    "len([i for i in plots_tokens if 'love' in i  or 'Love'  in i ])"
   ]
  },
  {
   "cell_type": "code",
   "execution_count": 29,
   "metadata": {
    "deletable": false,
    "nbgrader": {
     "cell_type": "code",
     "checksum": "2496b2469c600cb15fb4eaab26d122cf",
     "grade": false,
     "grade_id": "cell-f93ee77c9ff6ba52",
     "locked": false,
     "schema_version": 3,
     "solution": true,
     "task": false
    }
   },
   "outputs": [
    {
     "data": {
      "text/plain": [
       "0.1783992671742678"
      ]
     },
     "execution_count": 29,
     "metadata": {},
     "output_type": "execute_result"
    }
   ],
   "source": [
    "def answer_two():\n",
    "\n",
    "    # YOUR CODE HERE\n",
    "    #raise NotImplementedError()\n",
    "    return len([i for i in plots_tokens if 'love' in i  or 'Love'  in i ])/len(plots_tokens)*100\n",
    "\n",
    "answer_two()"
   ]
  },
  {
   "cell_type": "code",
   "execution_count": null,
   "metadata": {
    "deletable": false,
    "editable": false,
    "nbgrader": {
     "cell_type": "code",
     "checksum": "9bf647cc1d14c656c8ec8541a3ead648",
     "grade": true,
     "grade_id": "cell-27092be2e8e84d2e",
     "locked": true,
     "points": 1,
     "schema_version": 3,
     "solution": false,
     "task": false
    }
   },
   "outputs": [],
   "source": []
  },
  {
   "cell_type": "code",
   "execution_count": 44,
   "metadata": {},
   "outputs": [
    {
     "data": {
      "text/plain": [
       "[(',', 19420),\n",
       " ('the', 18698),\n",
       " ('.', 16629),\n",
       " ('to', 12149),\n",
       " ('and', 11400),\n",
       " ('a', 8979),\n",
       " ('of', 6510),\n",
       " ('is', 5699),\n",
       " ('in', 5109),\n",
       " ('his', 4693),\n",
       " (\"'s\", 3682),\n",
       " ('her', 3674),\n",
       " ('he', 3556),\n",
       " ('that', 3517),\n",
       " ('with', 3293),\n",
       " ('him', 2570),\n",
       " ('for', 2433),\n",
       " ('by', 2321),\n",
       " ('The', 2234),\n",
       " ('on', 1925)]"
      ]
     },
     "execution_count": 44,
     "metadata": {},
     "output_type": "execute_result"
    }
   ],
   "source": [
    "from nltk.probability import FreqDist\n",
    "\n",
    "FreqDist(plots_tokens).most_common(20)\n",
    "#print(FreqDist(plots_tokens).keys())\n",
    "#print(FreqDist(plots_tokens).values())"
   ]
  },
  {
   "cell_type": "markdown",
   "metadata": {
    "deletable": false,
    "editable": false,
    "jp-MarkdownHeadingCollapsed": true,
    "nbgrader": {
     "cell_type": "markdown",
     "checksum": "4071b0e5cbc34d71aae894c92ad1786b",
     "grade": false,
     "grade_id": "cell-c09aa76a3f984318",
     "locked": true,
     "schema_version": 3,
     "solution": false,
     "task": false
    },
    "tags": []
   },
   "source": [
    "### Question 3\n",
    "\n",
    "What are the 20 most frequently occurring (unique) tokens in the text? What is their frequency?\n",
    "\n",
    "*This function should return a list of 20 tuples where each tuple is of the form `(token, frequency)`. The list should be sorted in descending order of frequency.*"
   ]
  },
  {
   "cell_type": "code",
   "execution_count": 42,
   "metadata": {},
   "outputs": [
    {
     "data": {
      "text/plain": [
       "{'Shlykov': 7,\n",
       " ',': 1,\n",
       " 'a': 1,\n",
       " 'hard-working': 2,\n",
       " 'taxi': 2,\n",
       " 'driver': 13,\n",
       " 'and': 22,\n",
       " 'Lyosha': 1,\n",
       " 'saxophonist': 3,\n",
       " 'develop': 1,\n",
       " 'bizarre': 1,\n",
       " 'love-hate': 1,\n",
       " 'relationship': 38,\n",
       " 'despite': 132,\n",
       " 'their': 1,\n",
       " 'prejudices': 1,\n",
       " 'realize': 4,\n",
       " 'they': 1,\n",
       " 'are': 29,\n",
       " \"n't\": 2,\n",
       " 'so': 4,\n",
       " 'different': 56,\n",
       " 'after': 3,\n",
       " 'all': 13,\n",
       " '.': 115,\n",
       " 'The': 3,\n",
       " 'nation': 1,\n",
       " 'of': 1,\n",
       " 'Panem': 8,\n",
       " 'consists': 1,\n",
       " 'wealthy': 54,\n",
       " 'Capitol': 8,\n",
       " 'twelve': 4,\n",
       " 'poorer': 1,\n",
       " 'districts': 1,\n",
       " 'As': 2,\n",
       " 'punishment': 1,\n",
       " 'for': 16,\n",
       " 'past': 5,\n",
       " 'rebellion': 1,\n",
       " 'each': 1,\n",
       " 'district': 1,\n",
       " 'must': 1,\n",
       " 'provide': 1,\n",
       " 'boy': 1,\n",
       " 'girl': 2,\n",
       " 'between': 1,\n",
       " 'the': 32,\n",
       " 'ages': 1,\n",
       " '12': 9,\n",
       " '18': 3,\n",
       " 'selected': 2,\n",
       " 'by': 17,\n",
       " 'lottery': 19,\n",
       " 'annual': 4,\n",
       " 'Hunger': 44,\n",
       " 'Games': 2,\n",
       " 'tributes': 3,\n",
       " 'fight': 1,\n",
       " 'to': 7,\n",
       " 'death': 1,\n",
       " 'in': 2,\n",
       " 'an': 20,\n",
       " 'arena': 2,\n",
       " ';': 11,\n",
       " 'sole': 3,\n",
       " 'survivor': 1,\n",
       " 'is': 1,\n",
       " 'rewarded': 6,\n",
       " 'with': 40,\n",
       " 'fame': 1,\n",
       " 'wealth': 9,\n",
       " 'In': 1,\n",
       " 'her': 1,\n",
       " 'first': 2,\n",
       " 'Reaping': 5,\n",
       " '12-year-old': 1,\n",
       " 'Primrose': 1,\n",
       " 'Everdeen': 1,\n",
       " 'chosen': 5,\n",
       " 'from': 1,\n",
       " 'District': 3,\n",
       " 'Her': 2,\n",
       " 'older': 1,\n",
       " 'sister': 2,\n",
       " 'Katniss': 6,\n",
       " 'volunteers': 7,\n",
       " 'take': 1,\n",
       " 'place': 3,\n",
       " 'Peeta': 1,\n",
       " 'Mellark': 36,\n",
       " 'baker': 1,\n",
       " \"'s\": 49,\n",
       " 'son': 9,\n",
       " 'who': 1,\n",
       " 'once': 1,\n",
       " 'gave': 19,\n",
       " 'bread': 4,\n",
       " 'when': 2,\n",
       " 'she': 1,\n",
       " 'was': 4,\n",
       " 'starving': 23,\n",
       " 'other': 1,\n",
       " 'tribute': 1,\n",
       " 'taken': 1,\n",
       " 'accompanied': 1,\n",
       " 'frequently': 31,\n",
       " 'drunk': 2,\n",
       " 'mentor': 5,\n",
       " 'victor': 5,\n",
       " 'Haymitch': 3,\n",
       " 'Abernathy': 1,\n",
       " 'He': 1,\n",
       " 'warns': 19,\n",
       " 'them': 17,\n",
       " 'about': 23,\n",
       " '``': 10,\n",
       " 'Career': 9,\n",
       " \"''\": 2,\n",
       " 'train': 2,\n",
       " 'intensively': 1,\n",
       " 'at': 2,\n",
       " 'special': 5,\n",
       " 'academies': 1,\n",
       " 'almost': 5,\n",
       " 'always': 1,\n",
       " 'win': 1,\n",
       " 'During': 3,\n",
       " 'TV': 1,\n",
       " 'interview': 1,\n",
       " 'Caesar': 19,\n",
       " 'Flickerman': 13,\n",
       " 'unexpectedly': 40,\n",
       " 'reveals': 2,\n",
       " 'his': 9,\n",
       " 'love': 5,\n",
       " 'She': 1,\n",
       " 'outraged': 1,\n",
       " 'believing': 39,\n",
       " 'it': 3,\n",
       " 'be': 1,\n",
       " 'ploy': 4,\n",
       " 'gain': 3,\n",
       " 'audience': 1,\n",
       " 'support': 2,\n",
       " 'as': 1,\n",
       " 'sponsors': 4,\n",
       " 'may': 5,\n",
       " 'in-Games': 4,\n",
       " 'gifts': 2,\n",
       " 'food': 1,\n",
       " 'medicine': 5,\n",
       " 'tools': 2,\n",
       " 'However': 1,\n",
       " 'discovers': 1,\n",
       " 'meant': 3,\n",
       " 'what': 1,\n",
       " 'he': 1,\n",
       " 'said': 5,\n",
       " 'televised': 3,\n",
       " 'begin': 30,\n",
       " 'half': 1,\n",
       " 'killed': 3,\n",
       " 'few': 1,\n",
       " 'minutes': 1,\n",
       " 'barely': 1,\n",
       " 'survives': 1,\n",
       " 'ignoring': 1,\n",
       " 'advice': 1,\n",
       " 'run': 1,\n",
       " 'away': 2,\n",
       " 'melee': 1,\n",
       " 'over': 124,\n",
       " 'tempting': 2,\n",
       " 'supplies': 2,\n",
       " 'weapons': 10,\n",
       " 'strewn': 7,\n",
       " 'front': 2,\n",
       " 'structure': 1,\n",
       " 'called': 1,\n",
       " 'Cornucopia': 3,\n",
       " 'forms': 2,\n",
       " 'uneasy': 17,\n",
       " 'alliance': 1,\n",
       " 'four': 168,\n",
       " 'Careers': 2,\n",
       " 'They': 1,\n",
       " 'later': 1,\n",
       " 'find': 42,\n",
       " 'corner': 7,\n",
       " 'up': 1,\n",
       " 'tree': 8,\n",
       " 'Rue': 1,\n",
       " 'hiding': 1,\n",
       " 'nearby': 1,\n",
       " 'draws': 56,\n",
       " 'attention': 8,\n",
       " 'poisonous': 5,\n",
       " 'tracker': 1,\n",
       " 'jacker': 7,\n",
       " 'nest': 1,\n",
       " 'hanging': 20,\n",
       " 'branch': 1,\n",
       " 'drops': 11,\n",
       " 'on': 5,\n",
       " 'sleeping': 1,\n",
       " 'besiegers': 1,\n",
       " 'scatter': 4,\n",
       " 'except': 33,\n",
       " 'Glimmer': 3,\n",
       " 'insects': 1,\n",
       " 'Hallucinating': 1,\n",
       " 'due': 1,\n",
       " 'venom': 1,\n",
       " 'warned': 8,\n",
       " 'cares': 65,\n",
       " 'couple': 1,\n",
       " 'days': 20,\n",
       " 'until': 1,\n",
       " 'recovers': 3,\n",
       " 'Meanwhile': 2,\n",
       " 'has': 1,\n",
       " 'gathered': 1,\n",
       " 'into': 5,\n",
       " 'pile': 1,\n",
       " 'draw': 14,\n",
       " 'off': 1,\n",
       " 'then': 5,\n",
       " 'destroys': 1,\n",
       " 'stockpile': 6,\n",
       " 'setting': 1,\n",
       " 'mines': 1,\n",
       " 'planted': 26,\n",
       " 'around': 1,\n",
       " 'Furious': 6,\n",
       " 'Cato': 1,\n",
       " 'kills': 4,\n",
       " 'assigned': 1,\n",
       " 'guard': 1,\n",
       " 'runs': 2,\n",
       " 'scene': 27,\n",
       " 'hears': 2,\n",
       " 'calling': 1,\n",
       " 'name': 11,\n",
       " 'finds': 25,\n",
       " 'trapped': 1,\n",
       " 'releases': 86,\n",
       " 'Marvel': 3,\n",
       " '1': 1,\n",
       " 'throws': 15,\n",
       " 'spear': 2,\n",
       " 'but': 2,\n",
       " 'dodges': 13,\n",
       " 'causing': 2,\n",
       " 'stab': 1,\n",
       " 'stomach': 19,\n",
       " 'instead': 2,\n",
       " 'shoots': 4,\n",
       " 'him': 18,\n",
       " 'dead': 1,\n",
       " 'arrow': 5,\n",
       " 'comforts': 2,\n",
       " 'dying': 1,\n",
       " 'song': 3,\n",
       " 'Afterward': 4,\n",
       " 'gathers': 1,\n",
       " 'arranges': 1,\n",
       " 'flowers': 1,\n",
       " 'body': 16,\n",
       " 'When': 1,\n",
       " 'this': 5,\n",
       " 'sparks': 23,\n",
       " 'riot': 1,\n",
       " '11': 1,\n",
       " 'President': 5,\n",
       " 'Snow': 1,\n",
       " 'summons': 1,\n",
       " 'Seneca': 26,\n",
       " 'Crane': 1,\n",
       " 'Gamemaker': 1,\n",
       " 'express': 2,\n",
       " 'displeasure': 6,\n",
       " 'way': 1,\n",
       " 'turning': 1,\n",
       " 'out': 3,\n",
       " 'Since': 1,\n",
       " 'have': 1,\n",
       " 'been': 1,\n",
       " 'presented': 2,\n",
       " 'public': 1,\n",
       " 'star-crossed': 1,\n",
       " 'lovers': 2,\n",
       " 'able': 1,\n",
       " 'convince': 1,\n",
       " 'make': 11,\n",
       " 'rule': 3,\n",
       " 'change': 2,\n",
       " 'avoid': 3,\n",
       " 'inciting': 7,\n",
       " 'further': 1,\n",
       " 'riots': 1,\n",
       " 'It': 221,\n",
       " 'announced': 2,\n",
       " 'that': 3,\n",
       " 'same': 4,\n",
       " 'can': 2,\n",
       " 'pair': 1,\n",
       " 'Upon': 1,\n",
       " 'hearing': 8,\n",
       " 'searches': 7,\n",
       " 'infected': 1,\n",
       " 'sword': 4,\n",
       " 'wound': 1,\n",
       " 'leg': 9,\n",
       " 'portrays': 4,\n",
       " 'herself': 11,\n",
       " 'deeply': 229,\n",
       " 'gains': 6,\n",
       " 'sponsor': 2,\n",
       " 'gift': 1,\n",
       " 'soup': 2,\n",
       " 'An': 1,\n",
       " 'announcer': 5,\n",
       " 'proclaims': 6,\n",
       " 'feast': 1,\n",
       " 'where': 1,\n",
       " 'thing': 1,\n",
       " 'needs': 2,\n",
       " 'most': 1,\n",
       " 'will': 1,\n",
       " 'provided': 161,\n",
       " 'begs': 9,\n",
       " 'not': 1,\n",
       " 'risk': 3,\n",
       " 'getting': 1,\n",
       " 'promises': 22,\n",
       " 'go': 1,\n",
       " 'falls': 32,\n",
       " 'asleep': 12,\n",
       " 'heads': 5,\n",
       " 'Clove': 3,\n",
       " 'ambushes': 1,\n",
       " 'pins': 1,\n",
       " 'down': 1,\n",
       " 'gloats': 1,\n",
       " 'Thresh': 1,\n",
       " 'overhearing': 2,\n",
       " 'tormenting': 4,\n",
       " 'killing': 1,\n",
       " 'spares': 9,\n",
       " 'just': 2,\n",
       " 'time': 3,\n",
       " '...': 3,\n",
       " 'works': 2,\n",
       " 'keeping': 1,\n",
       " 'mobile': 1,\n",
       " 'Foxface': 1,\n",
       " '5': 3,\n",
       " 'dies': 6,\n",
       " 'eating': 1,\n",
       " 'nightlock': 6,\n",
       " 'berries': 1106,\n",
       " 'stole': 70,\n",
       " 'neither': 1,\n",
       " 'knew': 2,\n",
       " 'highly': 3,\n",
       " 'changes': 1,\n",
       " 'day': 17,\n",
       " 'late': 29,\n",
       " 'night': 2,\n",
       " 'unleashes': 3,\n",
       " 'pack': 2,\n",
       " 'hound-like': 1,\n",
       " 'creatures': 4,\n",
       " 'speed': 1,\n",
       " 'things': 1,\n",
       " 'kill': 1,\n",
       " 'force': 2,\n",
       " 'flee': 1,\n",
       " 'roof': 1,\n",
       " 'encounter': 1,\n",
       " 'After': 2,\n",
       " 'battle': 14,\n",
       " 'wounds': 2,\n",
       " 'hurls': 1,\n",
       " 'below': 1,\n",
       " 'spare': 15,\n",
       " 'prolonged': 2,\n",
       " 'With': 2,\n",
       " 'apparently': 1,\n",
       " 'victorious': 1,\n",
       " 'allowing': 1,\n",
       " 'two': 12,\n",
       " 'winners': 1,\n",
       " 'suddenly': 1,\n",
       " 'revoked': 4,\n",
       " 'tells': 2,\n",
       " 'shoot': 3,\n",
       " 'Instead': 1,\n",
       " 'gives': 6,\n",
       " 'before': 1,\n",
       " 'commit': 29,\n",
       " 'suicide': 13,\n",
       " 'hastily': 15,\n",
       " 'proclaimed': 1,\n",
       " 'victors': 5,\n",
       " '74th': 1,\n",
       " 'made': 7,\n",
       " 'powerful': 1,\n",
       " 'enemies': 1,\n",
       " 'display': 15,\n",
       " 'defiance': 2,\n",
       " 'return': 9,\n",
       " 'while': 1,\n",
       " 'locked': 1,\n",
       " 'room': 2,\n",
       " 'bowl': 4,\n",
       " 'considers': 1,\n",
       " 'situation': 1,\n",
       " 'Poovalli': 1,\n",
       " 'Induchoodan': 1,\n",
       " 'sentenced': 1,\n",
       " 'six': 19,\n",
       " 'years': 2,\n",
       " 'prison': 17,\n",
       " 'life': 44,\n",
       " 'murdering': 3,\n",
       " 'classmate': 1,\n",
       " 'only': 1,\n",
       " 'Justice': 15,\n",
       " 'Maranchery': 1,\n",
       " 'Karunakara': 2,\n",
       " 'Menon': 3,\n",
       " 'framed': 6,\n",
       " 'case': 1,\n",
       " 'Manapally': 7,\n",
       " 'Madhavan': 1,\n",
       " 'Nambiar': 1,\n",
       " 'crony': 2,\n",
       " 'DYSP': 1,\n",
       " 'Sankaranarayanan': 1,\n",
       " 'revenge': 1,\n",
       " 'idealist': 1,\n",
       " 'judge': 1,\n",
       " 'had': 2,\n",
       " 'earlier': 1,\n",
       " 'given': 2,\n",
       " 'jail': 1,\n",
       " 'sentence': 19,\n",
       " 'corruption': 3,\n",
       " 'achieved': 3,\n",
       " 'top': 2,\n",
       " 'rank': 35,\n",
       " 'Indian': 1,\n",
       " 'Civil': 1,\n",
       " 'Service': 4,\n",
       " 'loses': 1,\n",
       " 'post': 27,\n",
       " 'Sudheeran': 1,\n",
       " '(': 3,\n",
       " '[': 3,\n",
       " 'Saikumar': 1,\n",
       " 'enters': 1,\n",
       " 'list': 46,\n",
       " 'civil': 2,\n",
       " 'service': 1,\n",
       " 'trainees': 2,\n",
       " 'We': 13,\n",
       " 'learn': 11,\n",
       " 'flashback': 2,\n",
       " 'Ramakrishnan': 13,\n",
       " 'Moopil': 1,\n",
       " 'Nair': 18,\n",
       " 'actually': 1,\n",
       " 'Six': 6,\n",
       " 'passes': 11,\n",
       " 'now': 1,\n",
       " 'former': 1,\n",
       " 'state': 6,\n",
       " 'minister': 1,\n",
       " 'rage': 1,\n",
       " 'gross': 2,\n",
       " 'injustice': 1,\n",
       " 'meted': 1,\n",
       " '-': 1,\n",
       " 'thus': 1,\n",
       " 'destroying': 1,\n",
       " 'promising': 1,\n",
       " 'released': 1,\n",
       " 'thwarts': 1,\n",
       " 'Pavithran': 1,\n",
       " 'performing': 5,\n",
       " 'funeral': 2,\n",
       " 'rituals': 43,\n",
       " 'Bharathapuzha': 3,\n",
       " 'Many': 2,\n",
       " 'confrontations': 12,\n",
       " 'henchmen': 1,\n",
       " 'follow': 3,\n",
       " 'also': 2,\n",
       " 'Anuradha': 1,\n",
       " 'Aishwarya': 2,\n",
       " 'strong-willed': 3,\n",
       " 'independent-minded': 5,\n",
       " 'daughter': 2,\n",
       " 'Mooppil': 1,\n",
       " 'wife': 2,\n",
       " 'returns': 6,\n",
       " 'back': 1,\n",
       " 'Kerala': 2,\n",
       " 'stay': 5,\n",
       " 'There': 26,\n",
       " 'appearance': 2,\n",
       " 'named': 1,\n",
       " 'Indulekha': 1,\n",
       " 'Kanaka': 1,\n",
       " 'claims': 6,\n",
       " 'flatly': 3,\n",
       " 'refuses': 1,\n",
       " 'claim': 4,\n",
       " 'banishes': 2,\n",
       " 'Forced': 27,\n",
       " 'circumstances': 3,\n",
       " 'instigation': 4,\n",
       " 'help': 1,\n",
       " 'reluctantly': 7,\n",
       " 'come': 2,\n",
       " 'open': 1,\n",
       " 'thrashes': 2,\n",
       " 'protesters': 1,\n",
       " 'But': 1,\n",
       " 'upon': 2,\n",
       " 'knowing': 9,\n",
       " 'truth': 1,\n",
       " 'Chandrabhanu': 2,\n",
       " 'uncle': 1,\n",
       " 'accepts': 4,\n",
       " 'task': 1,\n",
       " 'protection': 7,\n",
       " 'capacity': 1,\n",
       " 'elder': 1,\n",
       " 'brother': 1,\n",
       " 'decides': 1,\n",
       " 'marry': 2,\n",
       " 'good': 1,\n",
       " 'friend': 6,\n",
       " 'Jayakrishnan': 5,\n",
       " 'confrontation': 14,\n",
       " 'father': 1,\n",
       " 'prods': 2,\n",
       " 'accept': 2,\n",
       " 'mistake': 1,\n",
       " 'acknowledge': 2,\n",
       " 'parentage': 2,\n",
       " 'ultimately': 2,\n",
       " 'regrets': 7,\n",
       " 'goes': 2,\n",
       " 'confess': 1,\n",
       " 'very': 1,\n",
       " 'next': 1,\n",
       " 'Poovally': 2,\n",
       " 'found': 58,\n",
       " 'accused': 1,\n",
       " 'whole': 1,\n",
       " 'act': 1,\n",
       " 'planned': 7,\n",
       " 'forces': 1,\n",
       " 'Raman': 8,\n",
       " 'testify': 2,\n",
       " 'against': 179,\n",
       " 'court': 8,\n",
       " 'Nandagopal': 8,\n",
       " 'Maarar': 17,\n",
       " 'close': 1,\n",
       " 'famous': 171,\n",
       " 'supreme': 1,\n",
       " 'lawyer': 1,\n",
       " 'appears': 1,\n",
       " 'manages': 1,\n",
       " 'lay': 1,\n",
       " 'bare': 3,\n",
       " 'murder': 1,\n",
       " 'plot': 2,\n",
       " 'hidden': 1,\n",
       " 'intentions': 1,\n",
       " 'party': 13,\n",
       " 'judged': 5,\n",
       " 'innocent': 3,\n",
       " 'crime': 1,\n",
       " 'confronting': 1,\n",
       " 'retribution': 2,\n",
       " 'shows': 6,\n",
       " 'remorse': 4,\n",
       " 'actions': 7,\n",
       " 'including': 2,\n",
       " 'innocence': 1,\n",
       " 'speaking': 7,\n",
       " 'suffers': 1,\n",
       " 'heart': 2,\n",
       " 'stroke': 6,\n",
       " 'At': 4,\n",
       " 'arrives': 8,\n",
       " 'poke': 12,\n",
       " 'fun': 4,\n",
       " 'tries': 1,\n",
       " 'carry': 13,\n",
       " 'postponed': 1,\n",
       " 'last': 1,\n",
       " 'own': 2,\n",
       " 'interrupts': 31,\n",
       " 'ritual': 4,\n",
       " 'avenges': 1,\n",
       " 'severely': 1,\n",
       " 'injuring': 1,\n",
       " 'On': 43,\n",
       " 'peaceful': 2,\n",
       " 'partner': 1,\n",
       " 'Lemon': 8,\n",
       " 'Drop': 1,\n",
       " 'Kid': 2,\n",
       " 'New': 1,\n",
       " 'York': 8,\n",
       " 'City': 4693,\n",
       " 'swindler': 1,\n",
       " 'illegally': 1,\n",
       " 'touting': 10,\n",
       " 'horses': 11,\n",
       " 'Florida': 7,\n",
       " 'racetrack': 2,\n",
       " 'several': 1,\n",
       " 'successful': 1,\n",
       " 'hustles': 1,\n",
       " 'comes': 1,\n",
       " 'across': 8,\n",
       " 'beautiful': 1,\n",
       " 'gullible': 1,\n",
       " 'woman': 1,\n",
       " 'intending': 17,\n",
       " 'bet': 5,\n",
       " 'lot': 52,\n",
       " 'money': 2,\n",
       " 'convinces': 17,\n",
       " 'switch': 8,\n",
       " 'employing': 1,\n",
       " 'prefabricated': 42,\n",
       " 'con': 7,\n",
       " 'Unfortunately': 1,\n",
       " 'belongs': 1,\n",
       " 'notorious': 2,\n",
       " 'gangster': 6,\n",
       " 'Moose': 3,\n",
       " 'Moran': 4,\n",
       " 'does': 2,\n",
       " 'choice': 1,\n",
       " 'finishes': 41,\n",
       " 'furious': 27,\n",
       " 'demands': 2,\n",
       " '$': 1,\n",
       " '10,000': 1,\n",
       " 'Christmas': 1,\n",
       " 'Eve': 1,\n",
       " 'or': 5,\n",
       " 'wo': 3,\n",
       " 'Year': 1,\n",
       " 'try': 2,\n",
       " 'on-again': 3,\n",
       " 'off-again': 82,\n",
       " 'girlfriend': 2,\n",
       " 'Brainy': 3,\n",
       " 'Baxter': 1,\n",
       " 'talk': 1,\n",
       " 'long-term': 2,\n",
       " 'commitment': 4,\n",
       " 'arises': 9,\n",
       " 'quickly': 7,\n",
       " 'makes': 1,\n",
       " 'escape': 1,\n",
       " 'visits': 2,\n",
       " 'local': 33,\n",
       " 'boss': 14,\n",
       " 'Oxford': 1,\n",
       " 'Charley': 2,\n",
       " 'whom': 2,\n",
       " 'dealings': 9,\n",
       " 'This': 2,\n",
       " 'through': 3,\n",
       " 'serious': 2,\n",
       " 'tax': 178,\n",
       " 'trouble': 7,\n",
       " 'particularly': 30,\n",
       " 'care': 6,\n",
       " 'anyway': 1,\n",
       " 'leaves': 1,\n",
       " 'establishment': 1,\n",
       " 'give': 2,\n",
       " 'hope': 2,\n",
       " 'notices': 2,\n",
       " 'cornerside': 1,\n",
       " 'Santa': 1,\n",
       " 'Claus': 634,\n",
       " 'kettle': 1,\n",
       " 'Thinking': 2,\n",
       " 'fashions': 4,\n",
       " 'himself': 6,\n",
       " 'suit': 1,\n",
       " 'begins': 1,\n",
       " 'collecting': 20,\n",
       " 'donations': 18,\n",
       " 'fails': 1,\n",
       " 'recognized': 2,\n",
       " 'passing': 23,\n",
       " 'policeman': 12,\n",
       " 'remembers': 73,\n",
       " 'previous': 1,\n",
       " 'underhanded': 4,\n",
       " 'activity': 4,\n",
       " 'well': 1,\n",
       " 'lands': 4,\n",
       " 'convicted': 3,\n",
       " 'charity': 1,\n",
       " 'without': 12,\n",
       " 'license': 2,\n",
       " 'ten': 1,\n",
       " 'learns': 2,\n",
       " 'scheme': 1,\n",
       " 'went': 2,\n",
       " 'wrong': 2,\n",
       " 'short': 2,\n",
       " 'bail': 3,\n",
       " 'sets': 10,\n",
       " 'restarting': 2,\n",
       " 'operation': 2,\n",
       " 'legitimate': 1,\n",
       " 'backing': 3,\n",
       " 'To': 21,\n",
       " 'end': 5,\n",
       " 'represent': 3,\n",
       " 'city': 5,\n",
       " 'kid': 3,\n",
       " 'receives': 1,\n",
       " 'key': 5,\n",
       " 'inspiration': 3,\n",
       " 'Nellie': 7,\n",
       " 'Thursday': 4,\n",
       " 'kindly': 4,\n",
       " 'neighborhood': 4,\n",
       " 'resident': 1,\n",
       " 'denied': 1,\n",
       " 'entry': 1,\n",
       " 'retirement': 1,\n",
       " 'home': 1,\n",
       " 'because': 1,\n",
       " 'jailed': 11,\n",
       " 'husband': 19,\n",
       " 'criminal': 1,\n",
       " 'safecracker': 3,\n",
       " 'Organizing': 2,\n",
       " 'small-time': 1,\n",
       " 'swindlers': 1,\n",
       " 'both': 1,\n",
       " 'surprised': 25,\n",
       " 'charmed': 1,\n",
       " 'apparent': 9,\n",
       " 'goodwill': 2,\n",
       " 'converts': 2,\n",
       " 'abandoned': 3,\n",
       " 'casino': 1,\n",
       " 'Home': 1,\n",
       " 'For': 83,\n",
       " 'Old': 4,\n",
       " 'Dolls': 2,\n",
       " 'A': 2,\n",
       " 'small': 6,\n",
       " 'group': 9,\n",
       " 'elderly': 1,\n",
       " 'women': 4,\n",
       " 'makeshift': 1,\n",
       " 'amenities': 2,\n",
       " 'complete': 3,\n",
       " 'project': 1,\n",
       " 'receive': 1,\n",
       " 'all-important': 3,\n",
       " 'Now': 1,\n",
       " 'free': 1,\n",
       " 'collect': 11,\n",
       " 'compatriots': 1,\n",
       " 'dress': 1,\n",
       " 'position': 1,\n",
       " 'themselves': 2,\n",
       " 'throughout': 6,\n",
       " 'Manhattan': 6,\n",
       " 'others': 87,\n",
       " 'unaware': 1,\n",
       " 'plans': 1,\n",
       " 'keep': 5,\n",
       " 'pay': 1,\n",
       " 'huge': 1,\n",
       " 'success': 1,\n",
       " 'netting': 2,\n",
       " '2,000': 1,\n",
       " 'overjoyed': 14,\n",
       " 'leave': 1,\n",
       " 'job': 5,\n",
       " 'dancer': 5,\n",
       " 'look': 1,\n",
       " 'full-time': 1,\n",
       " 'Coincidentally': 1,\n",
       " 'employer': 1,\n",
       " 'none': 1,\n",
       " 'than': 2,\n",
       " 'cheerfully': 6,\n",
       " 'informs': 2,\n",
       " 'effort': 1,\n",
       " 'Seeing': 1,\n",
       " 'potential': 4,\n",
       " 'gold': 3,\n",
       " 'mine': 1,\n",
       " 'muscle': 3,\n",
       " 'Reasoning': 2,\n",
       " 'wherever': 1,\n",
       " 'crew': 2,\n",
       " 'kidnap': 1,\n",
       " 'inhabitants': 1,\n",
       " 'move': 2,\n",
       " 'mansion': 8,\n",
       " 'Nyack': 1,\n",
       " 'deserted': 1,\n",
       " 'gone': 2,\n",
       " 'Clued': 1,\n",
       " 'oversized': 1,\n",
       " 'footprints': 2,\n",
       " 'snow': 1,\n",
       " 'friends': 1,\n",
       " 'visit': 10,\n",
       " 'Here': 9,\n",
       " 'true': 9,\n",
       " 'nature': 4,\n",
       " 'phone': 14,\n",
       " 'conversation': 3,\n",
       " 'accomplices': 52,\n",
       " 'angry': 17,\n",
       " 'confront': 2,\n",
       " 'slip': 1,\n",
       " 'tracks': 4,\n",
       " 'outside': 1,\n",
       " 'voices': 1,\n",
       " 'disgust': 1,\n",
       " 'stewing': 1,\n",
       " 'self-pity': 1,\n",
       " 'meet': 5,\n",
       " 'escaped': 1,\n",
       " 'compound': 4,\n",
       " 'recover': 1,\n",
       " 'sneaking': 1,\n",
       " 'guise': 3,\n",
       " 'again': 4,\n",
       " 'moving': 14,\n",
       " 'more': 1,\n",
       " 'secure': 1,\n",
       " 'location': 4,\n",
       " 'Using': 1,\n",
       " 'heightened': 6,\n",
       " 'advantage': 2,\n",
       " 'office': 1,\n",
       " 'confronts': 2,\n",
       " 'brief': 1,\n",
       " 'struggle': 4,\n",
       " 'overpowers': 6,\n",
       " 'narrowly': 1,\n",
       " 'avoiding': 2,\n",
       " 'thugs': 4,\n",
       " 'sent': 5,\n",
       " 'ensuing': 6,\n",
       " 'chaos': 1,\n",
       " 'allows': 1,\n",
       " 'Later': 11,\n",
       " 'original': 10,\n",
       " 'deal': 47,\n",
       " 'jeopardy': 1,\n",
       " 'reimburse': 21,\n",
       " 'which': 1,\n",
       " 'would': 1,\n",
       " 'too': 2,\n",
       " 'little': 1,\n",
       " 'turns': 1,\n",
       " 'tables': 4,\n",
       " 'hitting': 3,\n",
       " 'revealing': 3,\n",
       " 'All': 4,\n",
       " 'occupied': 1,\n",
       " 'mainly': 3,\n",
       " 'old': 29,\n",
       " 'dolls': 7,\n",
       " 'still-loyal': 1,\n",
       " 'hold': 1,\n",
       " 'gangsters': 4,\n",
       " 'police': 2,\n",
       " 'initiate': 1,\n",
       " 'raid': 12,\n",
       " 'arrested': 4,\n",
       " 'eye': 23,\n",
       " 'assures': 1,\n",
       " 'necessary': 16,\n",
       " 'lie': 1,\n",
       " 'going': 1,\n",
       " 'become': 1,\n",
       " 'reality': 21,\n",
       " 'main': 1,\n",
       " 'event': 1,\n",
       " 'Henry': 3,\n",
       " 'parole': 4,\n",
       " 'joyously': 1,\n",
       " 'reunites': 1,\n",
       " 'Seventh-day': 5,\n",
       " 'Adventist': 3,\n",
       " 'Church': 99,\n",
       " 'pastor': 64,\n",
       " 'Michael': 4,\n",
       " 'Chamberlain': 9,\n",
       " 'Lindy': 1,\n",
       " 'sons': 31,\n",
       " 'nine-week-old': 9,\n",
       " 'Azaria': 30,\n",
       " 'camping': 2,\n",
       " 'holiday': 10,\n",
       " 'Outback': 5,\n",
       " 'baby': 1,\n",
       " 'tent': 2,\n",
       " 'family': 1,\n",
       " 'enjoying': 11,\n",
       " 'barbecue': 1,\n",
       " 'fellow': 3,\n",
       " 'campers': 1,\n",
       " 'cry': 1,\n",
       " 'heard': 1,\n",
       " 'check': 3,\n",
       " 'certain': 11,\n",
       " 'sees': 11,\n",
       " 'dingo': 1,\n",
       " 'something': 2,\n",
       " 'its': 37,\n",
       " 'mouth': 1,\n",
       " 'running': 7,\n",
       " 'approaches': 5,\n",
       " 'infant': 50,\n",
       " 'missing': 1,\n",
       " 'everyone': 2,\n",
       " 'joins': 1,\n",
       " 'search': 1,\n",
       " 'assumed': 1,\n",
       " 'saw': 9,\n",
       " 'animal': 24,\n",
       " 'carrying': 2,\n",
       " 'child': 3,\n",
       " 'subsequent': 4,\n",
       " 'inquest': 2,\n",
       " 'rules': 2,\n",
       " 'account': 5,\n",
       " 'events': 1,\n",
       " 'tide': 1,\n",
       " 'opinion': 1,\n",
       " 'soon': 1,\n",
       " 'Chamberlains': 3,\n",
       " 'many': 80,\n",
       " 'seems': 7,\n",
       " 'stoic': 111,\n",
       " 'cold-hearted': 3,\n",
       " 'accepting': 3,\n",
       " 'disaster': 1,\n",
       " 'befallen': 4,\n",
       " 'Gossip': 5,\n",
       " 'swell': 1,\n",
       " 'accepted': 1,\n",
       " 'statements': 1,\n",
       " 'fact': 2,\n",
       " 'beliefs': 1,\n",
       " 'widely': 1,\n",
       " 'practised': 2,\n",
       " 'country': 1,\n",
       " 'media': 1,\n",
       " 'report': 10,\n",
       " 'rumour': 5,\n",
       " 'means': 13,\n",
       " 'sacrifice': 1,\n",
       " 'wilderness': 1,\n",
       " 'quick': 5,\n",
       " 'believe': 1,\n",
       " 'decapitated': 3,\n",
       " 'scissors': 1,\n",
       " 'part': 23,\n",
       " 'religious': 1,\n",
       " 'rite': 6,\n",
       " 'Law-enforcement': 2,\n",
       " 'officials': 1,\n",
       " 'new': 1,\n",
       " 'witnesses': 7,\n",
       " 'forensics': 13,\n",
       " 'experts': 2,\n",
       " 'circumstantial': 2,\n",
       " 'evidence—including': 4,\n",
       " ...}"
      ]
     },
     "execution_count": 42,
     "metadata": {},
     "output_type": "execute_result"
    }
   ],
   "source": [
    "dict(zip(plots_tokens,[plots_tokens.count(i) for i in set(plots_tokens)]))"
   ]
  },
  {
   "cell_type": "code",
   "execution_count": null,
   "metadata": {
    "deletable": false,
    "nbgrader": {
     "cell_type": "code",
     "checksum": "afcb9aac78dfd68e33cdc2cbc6ab3f50",
     "grade": false,
     "grade_id": "cell-62c8d073f91273ac",
     "locked": false,
     "schema_version": 3,
     "solution": true,
     "task": false
    }
   },
   "outputs": [],
   "source": [
    "def answer_three():\n",
    "\n",
    "    # YOUR CODE HERE\n",
    "    raise NotImplementedError()\n",
    "    return # Your answer here\n",
    "\n",
    "answer_three()"
   ]
  },
  {
   "cell_type": "code",
   "execution_count": null,
   "metadata": {
    "deletable": false,
    "editable": false,
    "nbgrader": {
     "cell_type": "code",
     "checksum": "ae9b1e8a351ce37ede871f5a80797619",
     "grade": true,
     "grade_id": "cell-507a8849d081756b",
     "locked": true,
     "points": 1,
     "schema_version": 3,
     "solution": false,
     "task": false
    }
   },
   "outputs": [],
   "source": []
  },
  {
   "cell_type": "markdown",
   "metadata": {
    "deletable": false,
    "editable": false,
    "nbgrader": {
     "cell_type": "markdown",
     "checksum": "f420b6c683e5a2697cb390cfd2d231ae",
     "grade": false,
     "grade_id": "cell-5f47fe4f238b78dd",
     "locked": true,
     "schema_version": 3,
     "solution": false,
     "task": false
    }
   },
   "source": [
    "### Question 4\n",
    "\n",
    "What tokens have a length of greater than 5 and frequency of more than 200?\n",
    "\n",
    "*This function should return an alphabetically sorted list of the tokens that match the above constraints. To sort your list, use `sorted()`*"
   ]
  },
  {
   "cell_type": "code",
   "execution_count": null,
   "metadata": {
    "deletable": false,
    "nbgrader": {
     "cell_type": "code",
     "checksum": "8473f68f68831b3534011887e16eba2b",
     "grade": false,
     "grade_id": "cell-5a6acdef4847e737",
     "locked": false,
     "schema_version": 3,
     "solution": true,
     "task": false
    }
   },
   "outputs": [],
   "source": [
    "def answer_four():\n",
    "\n",
    "    # YOUR CODE HERE\n",
    "    raise NotImplementedError()\n",
    "    return # Your answer here\n",
    "\n",
    "answer_four()"
   ]
  },
  {
   "cell_type": "code",
   "execution_count": null,
   "metadata": {
    "deletable": false,
    "editable": false,
    "nbgrader": {
     "cell_type": "code",
     "checksum": "597a65b1cd8276d5c0a471f5e3c1cb71",
     "grade": true,
     "grade_id": "cell-dfac54d8588a79bb",
     "locked": true,
     "points": 1,
     "schema_version": 3,
     "solution": false,
     "task": false
    }
   },
   "outputs": [],
   "source": []
  },
  {
   "cell_type": "markdown",
   "metadata": {
    "deletable": false,
    "editable": false,
    "nbgrader": {
     "cell_type": "markdown",
     "checksum": "6b5811c65dd5af6e6bfc2f7e6120a4b9",
     "grade": false,
     "grade_id": "cell-8ea845b3204e681f",
     "locked": true,
     "schema_version": 3,
     "solution": false,
     "task": false
    }
   },
   "source": [
    "### Question 5\n",
    "\n",
    "Find the longest token in text1 and that token's length.\n",
    "\n",
    "*This function should return a tuple `(longest_word, length)`.*"
   ]
  },
  {
   "cell_type": "code",
   "execution_count": null,
   "metadata": {
    "deletable": false,
    "nbgrader": {
     "cell_type": "code",
     "checksum": "b92f5d1417c21499c76d69eb96fecea0",
     "grade": false,
     "grade_id": "cell-8e48b990b889617c",
     "locked": false,
     "schema_version": 3,
     "solution": true,
     "task": false
    }
   },
   "outputs": [],
   "source": [
    "def answer_five():\n",
    "\n",
    "    # YOUR CODE HERE\n",
    "    raise NotImplementedError()\n",
    "    return # Your answer here\n",
    "\n",
    "answer_five()"
   ]
  },
  {
   "cell_type": "code",
   "execution_count": null,
   "metadata": {
    "deletable": false,
    "editable": false,
    "nbgrader": {
     "cell_type": "code",
     "checksum": "302b42ce329c3690975289c8cac7512c",
     "grade": true,
     "grade_id": "cell-8f427855b0328b18",
     "locked": true,
     "points": 1,
     "schema_version": 3,
     "solution": false,
     "task": false
    }
   },
   "outputs": [],
   "source": []
  },
  {
   "cell_type": "markdown",
   "metadata": {
    "deletable": false,
    "editable": false,
    "nbgrader": {
     "cell_type": "markdown",
     "checksum": "210c5a24a1359d3a83749e138733bc26",
     "grade": false,
     "grade_id": "cell-79422bcd3ea94729",
     "locked": true,
     "schema_version": 3,
     "solution": false,
     "task": false
    }
   },
   "source": [
    "### Question 6\n",
    "\n",
    "What unique words have a frequency of more than 2000? What is their frequency?\n",
    "\n",
    "\"Hint:  you may want to use `isalpha()` to check if the token is a word and not punctuation.\"\n",
    "\n",
    "*This function should return a list of tuples of the form `(frequency, word)` sorted in descending order of frequency.*"
   ]
  },
  {
   "cell_type": "code",
   "execution_count": null,
   "metadata": {
    "deletable": false,
    "nbgrader": {
     "cell_type": "code",
     "checksum": "6c9d107058699448b6fceec5870e0961",
     "grade": false,
     "grade_id": "cell-b361bd2f0c973ddf",
     "locked": false,
     "schema_version": 3,
     "solution": true,
     "task": false
    }
   },
   "outputs": [],
   "source": [
    "def answer_six():\n",
    "\n",
    "    # YOUR CODE HERE\n",
    "    raise NotImplementedError()\n",
    "    return # Your answer here\n",
    "\n",
    "answer_six()"
   ]
  },
  {
   "cell_type": "code",
   "execution_count": null,
   "metadata": {
    "deletable": false,
    "editable": false,
    "nbgrader": {
     "cell_type": "code",
     "checksum": "c99cd375d565984825eab962a92bc069",
     "grade": true,
     "grade_id": "cell-e6629ec7a557e797",
     "locked": true,
     "points": 1,
     "schema_version": 3,
     "solution": false,
     "task": false
    }
   },
   "outputs": [],
   "source": []
  },
  {
   "cell_type": "markdown",
   "metadata": {
    "deletable": false,
    "editable": false,
    "nbgrader": {
     "cell_type": "markdown",
     "checksum": "39a16f37b4a68b256c52e6949612e82e",
     "grade": false,
     "grade_id": "cell-a5232dd39b79ce55",
     "locked": true,
     "schema_version": 3,
     "solution": false,
     "task": false
    }
   },
   "source": [
    "### Question 7\n",
    "\n",
    "`text1` is in `nltk.Text` format that has been constructed using tokens output by `nltk.word_tokenize(plots_raw)`. \n",
    "\n",
    "Now, use `nltk.sent_tokenize` on the tokens in `text1` by joining them using whitespace to output a sentence-tokenized copy of `text1`. Report the average number of whitespace separated tokens per sentence in the sentence-tokenized copy of `text1`.\n",
    "\n",
    "*This function should return a float.*"
   ]
  },
  {
   "cell_type": "code",
   "execution_count": 49,
   "metadata": {},
   "outputs": [
    {
     "data": {
      "text/plain": [
       "21.230230349085726"
      ]
     },
     "execution_count": 49,
     "metadata": {},
     "output_type": "execute_result"
    }
   ],
   "source": [
    "np.average([FreqDist(sent)[' '] for sent in nltk.sent_tokenize(' '.join(text1))])"
   ]
  },
  {
   "cell_type": "code",
   "execution_count": 50,
   "metadata": {},
   "outputs": [
    {
     "data": {
      "text/plain": [
       "22.230230349085726"
      ]
     },
     "execution_count": 50,
     "metadata": {},
     "output_type": "execute_result"
    }
   ],
   "source": [
    "np.average([len(sent.split()) for sent in nltk.sent_tokenize(' '.join(text1))])"
   ]
  },
  {
   "cell_type": "code",
   "execution_count": null,
   "metadata": {
    "deletable": false,
    "nbgrader": {
     "cell_type": "code",
     "checksum": "09a27a55e10b9c22c801f688baacc689",
     "grade": false,
     "grade_id": "cell-416275d058421b1c",
     "locked": false,
     "schema_version": 3,
     "solution": true,
     "task": false
    }
   },
   "outputs": [],
   "source": [
    "def answer_seven():\n",
    "\n",
    "    # YOUR CODE HERE\n",
    "    raise NotImplementedError()\n",
    "    return # Your answer here\n",
    "\n",
    "answer_seven()"
   ]
  },
  {
   "cell_type": "code",
   "execution_count": null,
   "metadata": {
    "deletable": false,
    "editable": false,
    "nbgrader": {
     "cell_type": "code",
     "checksum": "458127acbf8bd0fd20c2fcb66d0152c6",
     "grade": true,
     "grade_id": "cell-11a1faa1d07cef4c",
     "locked": true,
     "points": 1,
     "schema_version": 3,
     "solution": false,
     "task": false
    }
   },
   "outputs": [],
   "source": []
  },
  {
   "cell_type": "markdown",
   "metadata": {
    "deletable": false,
    "editable": false,
    "nbgrader": {
     "cell_type": "markdown",
     "checksum": "dd8f86d60dc3cef696b2f64515d39ac3",
     "grade": false,
     "grade_id": "cell-377489593984f88c",
     "locked": true,
     "schema_version": 3,
     "solution": false,
     "task": false
    }
   },
   "source": [
    "### Question 8\n",
    "\n",
    "What are the 5 most frequent parts of speech in `text1`? What is their frequency?\n",
    "\n",
    "*This function should return a list of tuples of the form `(part_of_speech, frequency)` sorted in descending order of frequency.*"
   ]
  },
  {
   "cell_type": "code",
   "execution_count": null,
   "metadata": {
    "deletable": false,
    "nbgrader": {
     "cell_type": "code",
     "checksum": "3403e39852d8e5d7783a908b64c73c57",
     "grade": false,
     "grade_id": "cell-2fb8ade1035d010e",
     "locked": false,
     "schema_version": 3,
     "solution": true,
     "task": false
    }
   },
   "outputs": [],
   "source": [
    "def answer_eight():\n",
    "\n",
    "    # YOUR CODE HERE\n",
    "    raise NotImplementedError()\n",
    "    return # Your answer here\n",
    "\n",
    "answer_eight()"
   ]
  },
  {
   "cell_type": "code",
   "execution_count": null,
   "metadata": {
    "deletable": false,
    "editable": false,
    "nbgrader": {
     "cell_type": "code",
     "checksum": "eaa2738338890ba15a3b87d2a53e5af3",
     "grade": true,
     "grade_id": "cell-1ea3284952623d77",
     "locked": true,
     "points": 1,
     "schema_version": 3,
     "solution": false,
     "task": false
    }
   },
   "outputs": [],
   "source": []
  },
  {
   "cell_type": "markdown",
   "metadata": {
    "deletable": false,
    "editable": false,
    "nbgrader": {
     "cell_type": "markdown",
     "checksum": "0cc5797124305c841c1d47f9f94a25fb",
     "grade": false,
     "grade_id": "cell-8b2318e9cdf5078e",
     "locked": true,
     "schema_version": 3,
     "solution": false,
     "task": false
    }
   },
   "source": [
    "## Part 2 - Spelling Recommender\n",
    "\n",
    "For this part of the assignment you will create three different spelling recommenders, that each take a list of misspelled words and recommends a correctly spelled word for every word in the list.\n",
    "\n",
    "For every misspelled word, the recommender should find find the word in `correct_spellings` that has the shortest distance*, and starts with the same letter as the misspelled word, and return that word as a recommendation.\n",
    "\n",
    "*Each of the three different recommenders will use a different distance measure (outlined below).\n",
    "\n",
    "Each of the recommenders should provide recommendations for the three default words provided: `['cormulent', 'incendenece', 'validrate']`."
   ]
  },
  {
   "cell_type": "code",
   "execution_count": 1,
   "metadata": {
    "deletable": false,
    "editable": false,
    "nbgrader": {
     "cell_type": "code",
     "checksum": "441445a0d079ca69464ef89648261329",
     "grade": false,
     "grade_id": "cell-9635cab5394b4243",
     "locked": true,
     "schema_version": 3,
     "solution": false,
     "task": false
    }
   },
   "outputs": [],
   "source": [
    "from nltk.corpus import words\n",
    "\n",
    "correct_spellings = words.words()"
   ]
  },
  {
   "cell_type": "markdown",
   "metadata": {
    "deletable": false,
    "editable": false,
    "nbgrader": {
     "cell_type": "markdown",
     "checksum": "eeb154a2ba138d89531b09d030c96b88",
     "grade": false,
     "grade_id": "cell-f9bd4901b8b76756",
     "locked": true,
     "schema_version": 3,
     "solution": false,
     "task": false
    }
   },
   "source": [
    "### Question 9\n",
    "\n",
    "For this recommender, your function should provide recommendations for the three default words provided above using the following distance metric:\n",
    "\n",
    "**[Jaccard distance](https://en.wikipedia.org/wiki/Jaccard_index) on the trigrams of the two words.**\n",
    "\n",
    "Refer to:\n",
    "- [NLTK Jaccard distance](https://www.nltk.org/api/nltk.metrics.distance.html?highlight=jaccard_distance#nltk.metrics.distance.jaccard_distance)\n",
    "- [NLTK ngrams](https://www.nltk.org/api/nltk.util.html?highlight=ngrams#nltk.util.ngrams)\n",
    "\n",
    "*This function should return a list of length three:\n",
    "`['cormulent_reccomendation', 'incendenece_reccomendation', 'validrate_reccomendation']`.*"
   ]
  },
  {
   "cell_type": "code",
   "execution_count": 2,
   "metadata": {},
   "outputs": [],
   "source": [
    "from nltk.util import ngrams\n",
    "\n"
   ]
  },
  {
   "cell_type": "code",
   "execution_count": 4,
   "metadata": {},
   "outputs": [
    {
     "data": {
      "text/plain": [
       "[('c', 'o', 'r'),\n",
       " ('o', 'r', 'm'),\n",
       " ('r', 'm', 'u'),\n",
       " ('m', 'u', 'l'),\n",
       " ('u', 'l', 'e'),\n",
       " ('l', 'e', 'n'),\n",
       " ('e', 'n', 't')]"
      ]
     },
     "execution_count": 4,
     "metadata": {},
     "output_type": "execute_result"
    }
   ],
   "source": [
    "list(ngrams(list('cormulent'),3))"
   ]
  },
  {
   "cell_type": "code",
   "execution_count": 11,
   "metadata": {},
   "outputs": [
    {
     "data": {
      "text/plain": [
       "[('i', 'n', 'c'),\n",
       " ('n', 'c', 'e'),\n",
       " ('c', 'e', 'n'),\n",
       " ('e', 'n', 'd'),\n",
       " ('n', 'd', 'e'),\n",
       " ('d', 'e', 'n'),\n",
       " ('e', 'n', 'e'),\n",
       " ('n', 'e', 'c'),\n",
       " ('e', 'c', 'e')]"
      ]
     },
     "execution_count": 11,
     "metadata": {},
     "output_type": "execute_result"
    }
   ],
   "source": [
    "list(ngrams(list('incendenece'),3))"
   ]
  },
  {
   "cell_type": "code",
   "execution_count": 20,
   "metadata": {},
   "outputs": [
    {
     "data": {
      "text/plain": [
       "{('c', 'e', 'n'),\n",
       " ('d', 'e', 'n'),\n",
       " ('e', 'c', 'e'),\n",
       " ('e', 'n', 'd'),\n",
       " ('e', 'n', 'e'),\n",
       " ('i', 'n', 'c'),\n",
       " ('n', 'c', 'e'),\n",
       " ('n', 'd', 'e'),\n",
       " ('n', 'e', 'c')}"
      ]
     },
     "execution_count": 20,
     "metadata": {},
     "output_type": "execute_result"
    }
   ],
   "source": [
    "set(ngrams('incendenece',n=3))"
   ]
  },
  {
   "cell_type": "code",
   "execution_count": 25,
   "metadata": {},
   "outputs": [
    {
     "data": {
      "text/plain": [
       "0.75"
      ]
     },
     "execution_count": 25,
     "metadata": {},
     "output_type": "execute_result"
    }
   ],
   "source": [
    "from nltk.metrics import jaccard_distance\n",
    "jaccard_distance(set(ngrams('incendenece',n=3)),set(ngrams(list('incedence'),3)))"
   ]
  },
  {
   "cell_type": "code",
   "execution_count": 5,
   "metadata": {},
   "outputs": [],
   "source": [
    "entries=['cormulent', 'incendenece', 'validrate']"
   ]
  },
  {
   "cell_type": "code",
   "execution_count": 30,
   "metadata": {},
   "outputs": [
    {
     "data": {
      "text/plain": [
       "['corpulent', 'indecence', 'validate']"
      ]
     },
     "execution_count": 30,
     "metadata": {},
     "output_type": "execute_result"
    }
   ],
   "source": [
    "global_ls=[]\n",
    "for entry in entries:\n",
    "    entry_ls=[]\n",
    "    for correct_spelling in correct_spellings:\n",
    "        if correct_spelling[0]==entry[0]:\n",
    "            entry_ls.append([jaccard_distance(set(ngrams(entry,n=3)),set(ngrams(correct_spelling,n=3))),entry,correct_spelling])\n",
    "    global_ls.append(sorted(entry_ls)[0])\n",
    "[item[2] for item in global_ls]"
   ]
  },
  {
   "cell_type": "code",
   "execution_count": null,
   "metadata": {},
   "outputs": [],
   "source": []
  },
  {
   "cell_type": "code",
   "execution_count": null,
   "metadata": {},
   "outputs": [],
   "source": []
  },
  {
   "cell_type": "code",
   "execution_count": 31,
   "metadata": {
    "deletable": false,
    "nbgrader": {
     "cell_type": "code",
     "checksum": "f0a14e318e39c3a250b6de233f1b72fb",
     "grade": false,
     "grade_id": "cell-49250d9f337abe33",
     "locked": false,
     "schema_version": 3,
     "solution": true,
     "task": false
    }
   },
   "outputs": [
    {
     "data": {
      "text/plain": [
       "['corpulent', 'indecence', 'validate']"
      ]
     },
     "execution_count": 31,
     "metadata": {},
     "output_type": "execute_result"
    }
   ],
   "source": [
    "def answer_nine(entries=['cormulent', 'incendenece', 'validrate']):\n",
    "    global_ls=[]\n",
    "    for entry in entries:\n",
    "        entry_ls=[]\n",
    "        for correct_spelling in correct_spellings:\n",
    "            if correct_spelling[0]==entry[0]:\n",
    "                entry_ls.append([jaccard_distance(set(ngrams(entry,n=3)),set(ngrams(correct_spelling,n=3))),entry,correct_spelling])\n",
    "        global_ls.append(sorted(entry_ls)[0])\n",
    "                \n",
    "    return [item[2] for item in global_ls]\n",
    "    \n",
    "answer_nine()"
   ]
  },
  {
   "cell_type": "code",
   "execution_count": null,
   "metadata": {
    "deletable": false,
    "editable": false,
    "nbgrader": {
     "cell_type": "code",
     "checksum": "c6b7225fdb774f5e46dec50d7f3d0219",
     "grade": true,
     "grade_id": "cell-2a2de5b65d33eeeb",
     "locked": true,
     "points": 1,
     "schema_version": 3,
     "solution": false,
     "task": false
    }
   },
   "outputs": [],
   "source": []
  },
  {
   "cell_type": "markdown",
   "metadata": {
    "deletable": false,
    "editable": false,
    "nbgrader": {
     "cell_type": "markdown",
     "checksum": "c4fdc471c5def474f7508040daa46f23",
     "grade": false,
     "grade_id": "cell-e529b7b60545aced",
     "locked": true,
     "schema_version": 3,
     "solution": false,
     "task": false
    }
   },
   "source": [
    "### Question 10\n",
    "\n",
    "For this recommender, your function should provide recommendations for the three default words provided above using the following distance metric:\n",
    "\n",
    "**[Jaccard distance](https://en.wikipedia.org/wiki/Jaccard_index) on the 4-grams of the two words.**\n",
    "\n",
    "Refer to:\n",
    "- [NLTK Jaccard distance](https://www.nltk.org/api/nltk.metrics.distance.html?highlight=jaccard_distance#nltk.metrics.distance.jaccard_distance)\n",
    "- [NLTK ngrams](https://www.nltk.org/api/nltk.util.html?highlight=ngrams#nltk.util.ngrams)\n",
    "\n",
    "*This function should return a list of length three:\n",
    "`['cormulent_reccomendation', 'incendenece_reccomendation', 'validrate_reccomendation']`.*"
   ]
  },
  {
   "cell_type": "code",
   "execution_count": 32,
   "metadata": {
    "deletable": false,
    "nbgrader": {
     "cell_type": "code",
     "checksum": "51f67cfcb3cd3f0f54de42c21d665328",
     "grade": false,
     "grade_id": "cell-d2c7a9b21cb77476",
     "locked": false,
     "schema_version": 3,
     "solution": true,
     "task": false
    }
   },
   "outputs": [
    {
     "data": {
      "text/plain": [
       "['cormus', 'incendiary', 'valid']"
      ]
     },
     "execution_count": 32,
     "metadata": {},
     "output_type": "execute_result"
    }
   ],
   "source": [
    "def answer_ten(entries=['cormulent', 'incendenece', 'validrate']):\n",
    "\n",
    "    global_ls=[]\n",
    "    for entry in entries:\n",
    "        entry_ls=[]\n",
    "        for correct_spelling in correct_spellings:\n",
    "            if correct_spelling[0]==entry[0]:\n",
    "                entry_ls.append([jaccard_distance(set(ngrams(entry,n=4)),set(ngrams(correct_spelling,n=4))),entry,correct_spelling])\n",
    "        global_ls.append(sorted(entry_ls)[0])\n",
    "                \n",
    "    return [item[2] for item in global_ls]\n",
    "answer_ten()"
   ]
  },
  {
   "cell_type": "code",
   "execution_count": null,
   "metadata": {
    "deletable": false,
    "editable": false,
    "nbgrader": {
     "cell_type": "code",
     "checksum": "76a6ddaac45438536958b0b37387cd95",
     "grade": true,
     "grade_id": "cell-7a14f4e02e15bfa2",
     "locked": true,
     "points": 1,
     "schema_version": 3,
     "solution": false,
     "task": false
    }
   },
   "outputs": [],
   "source": []
  },
  {
   "cell_type": "markdown",
   "metadata": {
    "deletable": false,
    "editable": false,
    "nbgrader": {
     "cell_type": "markdown",
     "checksum": "784c5b952d5fa2e6fd55c834b255ef96",
     "grade": false,
     "grade_id": "cell-6d6d7fb064f4d28a",
     "locked": true,
     "schema_version": 3,
     "solution": false,
     "task": false
    }
   },
   "source": [
    "### Question 11\n",
    "\n",
    "For this recommender, your function should provide recommendations for the three default words provided above using the following distance metric:\n",
    "\n",
    "**[Edit distance on the two words with transpositions.](https://en.wikipedia.org/wiki/Damerau%E2%80%93Levenshtein_distance)**\n",
    "\n",
    "Refer to:\n",
    "- [NLTK edit distance](https://www.nltk.org/api/nltk.metrics.distance.html?highlight=edit_distance#nltk.metrics.distance.edit_distance)\n",
    "\n",
    "*This function should return a list of length three:\n",
    "`['cormulent_reccomendation', 'incendenece_reccomendation', 'validrate_reccomendation']`.*"
   ]
  },
  {
   "cell_type": "code",
   "execution_count": 33,
   "metadata": {},
   "outputs": [],
   "source": [
    "from nltk.metrics import edit_distance\n"
   ]
  },
  {
   "cell_type": "code",
   "execution_count": 39,
   "metadata": {
    "deletable": false,
    "nbgrader": {
     "cell_type": "code",
     "checksum": "6d4b6f99a1ea16548f0abc19381a53b8",
     "grade": false,
     "grade_id": "cell-f1e44797650980f3",
     "locked": false,
     "schema_version": 3,
     "solution": true,
     "task": false
    }
   },
   "outputs": [
    {
     "data": {
      "text/plain": [
       "['corpulent', 'intendence', 'validate']"
      ]
     },
     "execution_count": 39,
     "metadata": {},
     "output_type": "execute_result"
    }
   ],
   "source": [
    "def answer_eleven(entries=['cormulent', 'incendenece', 'validrate']):\n",
    "\n",
    "    global_ls=[]\n",
    "    for entry in entries:\n",
    "        entry_ls=[]\n",
    "        for correct_spelling in correct_spellings:\n",
    "            if correct_spelling[0]==entry[0]:\n",
    "                entry_ls.append([edit_distance(entry,correct_spelling,transpositions=False),entry,correct_spelling])\n",
    "        global_ls.append(sorted(entry_ls)[0])\n",
    "                \n",
    "    return [item[2] for item in global_ls]\n",
    "answer_eleven()"
   ]
  },
  {
   "cell_type": "code",
   "execution_count": null,
   "metadata": {
    "deletable": false,
    "editable": false,
    "nbgrader": {
     "cell_type": "code",
     "checksum": "c06a959d158d7d93ceeae13dee2de62e",
     "grade": true,
     "grade_id": "cell-152ee7cd1d36928c",
     "locked": true,
     "points": 1,
     "schema_version": 3,
     "solution": false,
     "task": false
    }
   },
   "outputs": [],
   "source": []
  }
 ],
 "metadata": {
  "coursera": {
   "course_slug": "python-text-mining",
   "graded_item_id": "r35En",
   "launcher_item_id": "tCVfW",
   "part_id": "NTVgL"
  },
  "kernelspec": {
   "display_name": "Python 3",
   "language": "python",
   "name": "python3"
  },
  "language_info": {
   "codemirror_mode": {
    "name": "ipython",
    "version": 3
   },
   "file_extension": ".py",
   "mimetype": "text/x-python",
   "name": "python",
   "nbconvert_exporter": "python",
   "pygments_lexer": "ipython3",
   "version": "3.12.3"
  }
 },
 "nbformat": 4,
 "nbformat_minor": 4
}
